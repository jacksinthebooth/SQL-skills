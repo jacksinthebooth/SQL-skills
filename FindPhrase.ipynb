{
  "nbformat": 4,
  "nbformat_minor": 0,
  "metadata": {
    "colab": {
      "name": "FindPhrase.ipynb",
      "provenance": [],
      "authorship_tag": "ABX9TyN2daCQaV5lHwNKtTeq1Mge",
      "include_colab_link": true
    },
    "kernelspec": {
      "name": "python3",
      "display_name": "Python 3"
    }
  },
  "cells": [
    {
      "cell_type": "markdown",
      "metadata": {
        "id": "view-in-github",
        "colab_type": "text"
      },
      "source": [
        "<a href=\"https://colab.research.google.com/github/tastiz/SQL-skills/blob/master/FindPhrase.ipynb\" target=\"_parent\"><img src=\"https://colab.research.google.com/assets/colab-badge.svg\" alt=\"Open In Colab\"/></a>"
      ]
    },
    {
      "cell_type": "code",
      "metadata": {
        "id": "vIlIbCjtEXOJ",
        "colab_type": "code",
        "outputId": "77dd171a-065b-456b-9117-d843816399ee",
        "colab": {
          "base_uri": "https://localhost:8080/",
          "height": 34
        }
      },
      "source": [
        "def QuestionsMarks(s):\n",
        "  qnum = 0\n",
        "  dig = 0\n",
        "  has_10 = False\n",
        "  for ch in s:\n",
        "    if ch.isdigit():\n",
        "      if int(ch) + dig == 10:\n",
        "        if qnum != 3:\n",
        "          return 'false'\n",
        "        has_10 = True\n",
        "      dig = int(ch)\n",
        "      qnum = 0\n",
        "    elif ch == '?':\n",
        "      qnum += 1\n",
        "  return 'true' if has_10 else 'false'\n",
        "\n",
        "bro = '5???51212121212121212124'\n",
        "\n",
        "QuestionsMarks(bro)"
      ],
      "execution_count": 0,
      "outputs": [
        {
          "output_type": "execute_result",
          "data": {
            "text/plain": [
              "'false'"
            ]
          },
          "metadata": {
            "tags": []
          },
          "execution_count": 7
        }
      ]
    },
    {
      "cell_type": "code",
      "metadata": {
        "id": "QyG-OMa8uvlX",
        "colab_type": "code",
        "colab": {}
      },
      "source": [
        ""
      ],
      "execution_count": 0,
      "outputs": []
    }
  ]
}